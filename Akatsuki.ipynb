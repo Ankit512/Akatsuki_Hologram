{
 "cells": [
  {
   "cell_type": "markdown",
   "metadata": {},
   "source": [
    "## Import Packages "
   ]
  },
  {
   "cell_type": "code",
   "execution_count": 2,
   "metadata": {},
   "outputs": [],
   "source": [
    "import cv2\n",
    "import time\n",
    "import numpy as np"
   ]
  },
  {
   "cell_type": "markdown",
   "metadata": {},
   "source": [
    "## Creating Output File and Importing Static Image"
   ]
  },
  {
   "cell_type": "code",
   "execution_count": 3,
   "metadata": {},
   "outputs": [],
   "source": [
    "fourcc = cv2.VideoWriter_fourcc(*'DIVX')\n",
    "out = cv2.VideoWriter('Akatsuki.avi',fourcc,20.0,(640,480))\n",
    "static_img = cv2.imread('static.jpg')"
   ]
  },
  {
   "cell_type": "markdown",
   "metadata": {},
   "source": [
    "## Replacing the Dynamic Object's Area with Blended Image"
   ]
  },
  {
   "cell_type": "code",
   "execution_count": 5,
   "metadata": {},
   "outputs": [],
   "source": [
    "#Create a background subtractor object\n",
    "backSub = cv2.createBackgroundSubtractorMOG2()\n",
    "cap=cv2.VideoCapture(0)\n",
    "time.sleep(5)\n",
    "count=0\n",
    "background=0\n",
    "\n",
    "#Recording the background image for the purpose of blending it with static image\n",
    "for i in range(60):\n",
    "    ret,background=cap.read()\n",
    "background=np.flip(background, axis=1) \n",
    "\n",
    "#Resize the static image to blend with background recorded\n",
    "static_img = cv2.resize(static_img, (640,480), interpolation = cv2.INTER_AREA) \n",
    "blend = cv2.addWeighted(background,0.8,static_img,0.8,0)                     #Blended image of background and static for the purpose of replacing it in masked area\n",
    "\n",
    "while (cap.isOpened()):\n",
    "    ret,img=cap.read()\n",
    "    if not ret:                                                              #Case when False is returned by cap.read()\n",
    "        break\n",
    "    count+=1\n",
    "    img=np.flip(img,axis=1)\n",
    "    \n",
    "    mask1 = backSub.apply(img)                                               #Applying background subtraction method to get a dynamic object in the frame\n",
    "    \n",
    "    #Handle noise in the image using morphologyEx\n",
    "    mask1=cv2.morphologyEx(mask1, cv2.MORPH_OPEN,np.ones((3,3),np.uint8))    #Erosion followed by Dilation\n",
    "    mask1=cv2.morphologyEx(mask1, cv2.MORPH_DILATE,np.ones((3,3),np.uint8))  #Dilation\n",
    "    mask1=cv2.morphologyEx(mask1, cv2.MORPH_DILATE,np.ones((3,3),np.uint8))  #Dilation\n",
    "    mask2=cv2.bitwise_not(mask1)                                             #Obtain Inverted mask of mask1\n",
    "    res1=cv2.bitwise_and(img,img,mask=mask2)                                 #Applying the total frame i.e.img over the masked region by bitwise_and so that unmasked area does not contain anything from the current frame.\n",
    "    res2=cv2.bitwise_and(blend,blend,mask=mask1)                             #Similar to previous step but in this case we pass the blended image in the masked area and unmasked area remains unaffected.\n",
    "    \n",
    "    finalOutput=cv2.addWeighted(res1,1,res2,1,0)                             #It blends both Image together, and since both res1 and res2 didn't have anything in unmasked region they add up together without affecting each other.\n",
    "    out.write(finalOutput)                                                   #Writing final Output produced in the same directory\n",
    "    cv2.imshow(\"magic\",finalOutput)                                          #Wait for 1ms for user response and if he enters \"q\" in his/her keyboard, the loop is terminated and webcam window closes.\n",
    "    if cv2.waitKey(1) & 0xFF == ord('q'):\n",
    "        break\n",
    "    \n",
    "cap.release()\n",
    "out.release()\n",
    "cv2.destroyAllWindows()                                                      #Destroying all the windows and releasing the cv2 objects created."
   ]
  }
 ],
 "metadata": {
  "kernelspec": {
   "display_name": "Python 3",
   "language": "python",
   "name": "python3"
  },
  "language_info": {
   "codemirror_mode": {
    "name": "ipython",
    "version": 3
   },
   "file_extension": ".py",
   "mimetype": "text/x-python",
   "name": "python",
   "nbconvert_exporter": "python",
   "pygments_lexer": "ipython3",
   "version": "3.8.3"
  }
 },
 "nbformat": 4,
 "nbformat_minor": 4
}
